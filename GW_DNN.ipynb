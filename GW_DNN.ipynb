{
 "metadata": {
  "language_info": {
   "codemirror_mode": {
    "name": "ipython",
    "version": 3
   },
   "file_extension": ".py",
   "mimetype": "text/x-python",
   "name": "python",
   "nbconvert_exporter": "python",
   "pygments_lexer": "ipython3",
   "version": "3.8.7-final"
  },
  "orig_nbformat": 2,
  "kernelspec": {
   "name": "python3",
   "display_name": "Python 3.8.7 64-bit",
   "metadata": {
    "interpreter": {
     "hash": "d7f94b8b1e41b02170d45ac71ce2d6b011e7cd56207b4c480f5292088bcfab93"
    }
   }
  }
 },
 "nbformat": 4,
 "nbformat_minor": 2,
 "cells": [
  {
   "source": [
    "# DNN for GW Hyperparameter Estimation"
   ],
   "cell_type": "markdown",
   "metadata": {}
  },
  {
   "cell_type": "code",
   "execution_count": 1,
   "metadata": {},
   "outputs": [],
   "source": [
    "import pandas as pd\n",
    "import numpy as np\n",
    "from sklearn.model_selection import train_test_split\n",
    "from sklearn.preprocessing import StandardScaler, MinMaxScaler\n",
    "from tensorflow import keras"
   ]
  },
  {
   "cell_type": "code",
   "execution_count": 2,
   "metadata": {},
   "outputs": [],
   "source": [
    "waveforms = pd.read_csv('waveforms_with_paraName.csv')"
   ]
  },
  {
   "cell_type": "code",
   "execution_count": 3,
   "metadata": {},
   "outputs": [
    {
     "output_type": "execute_result",
     "data": {
      "text/plain": [
       "   Unnamed: 0             0             1             2             3  \\\n",
       "0           0  4.962836e-19  6.078202e-19  7.159990e-19  8.154175e-19   \n",
       "1           1 -5.954363e-19 -5.906020e-19 -5.696043e-19 -5.352516e-19   \n",
       "2           2 -5.553868e-19 -5.302041e-19 -4.877696e-19 -4.529003e-19   \n",
       "3           3  1.542632e-19  1.702432e-20 -1.224389e-19 -2.601323e-19   \n",
       "4           4  8.523908e-19  8.153931e-19  7.941967e-19  7.514200e-19   \n",
       "\n",
       "              4             5             6             7             8  ...  \\\n",
       "0  9.103152e-19  1.006408e-18  1.083178e-18  1.156326e-18  1.210587e-18  ...   \n",
       "1 -4.885650e-19 -4.247364e-19 -3.796092e-19 -3.350472e-19 -3.006298e-19  ...   \n",
       "2 -4.218374e-19 -3.852027e-19 -3.158946e-19 -2.525576e-19 -1.931035e-19  ...   \n",
       "3 -3.962478e-19 -5.333942e-19 -6.509511e-19 -7.409664e-19 -8.053906e-19  ...   \n",
       "4  6.952851e-19  6.392178e-19  5.588227e-19  4.674662e-19  4.038495e-19  ...   \n",
       "\n",
       "          18605       tc_true  phic_true    mc_true  eta_true       dl_true  \\\n",
       "0 -9.707775e-21  2.095587e+06      0.954  24.284086  0.082645  7.023198e+17   \n",
       "1 -1.675976e-19  2.059795e+07      0.954  24.284086  0.082645  7.023198e+17   \n",
       "2  9.620730e-19  1.812547e+07      0.954  24.284086  0.082645  7.023198e+17   \n",
       "3 -1.047903e-18  2.276519e+07      0.954  24.284086  0.082645  7.023198e+17   \n",
       "4  2.814144e-19  1.825369e+07      0.954  24.284086  0.082645  7.023198e+17   \n",
       "\n",
       "   thetas_true  phis_true  iota_true  psi_true  \n",
       "0     0.671052   1.411355   1.055404  1.613817  \n",
       "1     0.658269   4.264866   1.443519  3.309646  \n",
       "2     1.351814   2.773614   1.209335  2.901510  \n",
       "3     1.258671   0.072278   0.707622  4.833565  \n",
       "4     1.301025   5.903408   0.976030  0.315526  \n",
       "\n",
       "[5 rows x 18616 columns]"
      ],
      "text/html": "<div>\n<style scoped>\n    .dataframe tbody tr th:only-of-type {\n        vertical-align: middle;\n    }\n\n    .dataframe tbody tr th {\n        vertical-align: top;\n    }\n\n    .dataframe thead th {\n        text-align: right;\n    }\n</style>\n<table border=\"1\" class=\"dataframe\">\n  <thead>\n    <tr style=\"text-align: right;\">\n      <th></th>\n      <th>Unnamed: 0</th>\n      <th>0</th>\n      <th>1</th>\n      <th>2</th>\n      <th>3</th>\n      <th>4</th>\n      <th>5</th>\n      <th>6</th>\n      <th>7</th>\n      <th>8</th>\n      <th>...</th>\n      <th>18605</th>\n      <th>tc_true</th>\n      <th>phic_true</th>\n      <th>mc_true</th>\n      <th>eta_true</th>\n      <th>dl_true</th>\n      <th>thetas_true</th>\n      <th>phis_true</th>\n      <th>iota_true</th>\n      <th>psi_true</th>\n    </tr>\n  </thead>\n  <tbody>\n    <tr>\n      <th>0</th>\n      <td>0</td>\n      <td>4.962836e-19</td>\n      <td>6.078202e-19</td>\n      <td>7.159990e-19</td>\n      <td>8.154175e-19</td>\n      <td>9.103152e-19</td>\n      <td>1.006408e-18</td>\n      <td>1.083178e-18</td>\n      <td>1.156326e-18</td>\n      <td>1.210587e-18</td>\n      <td>...</td>\n      <td>-9.707775e-21</td>\n      <td>2.095587e+06</td>\n      <td>0.954</td>\n      <td>24.284086</td>\n      <td>0.082645</td>\n      <td>7.023198e+17</td>\n      <td>0.671052</td>\n      <td>1.411355</td>\n      <td>1.055404</td>\n      <td>1.613817</td>\n    </tr>\n    <tr>\n      <th>1</th>\n      <td>1</td>\n      <td>-5.954363e-19</td>\n      <td>-5.906020e-19</td>\n      <td>-5.696043e-19</td>\n      <td>-5.352516e-19</td>\n      <td>-4.885650e-19</td>\n      <td>-4.247364e-19</td>\n      <td>-3.796092e-19</td>\n      <td>-3.350472e-19</td>\n      <td>-3.006298e-19</td>\n      <td>...</td>\n      <td>-1.675976e-19</td>\n      <td>2.059795e+07</td>\n      <td>0.954</td>\n      <td>24.284086</td>\n      <td>0.082645</td>\n      <td>7.023198e+17</td>\n      <td>0.658269</td>\n      <td>4.264866</td>\n      <td>1.443519</td>\n      <td>3.309646</td>\n    </tr>\n    <tr>\n      <th>2</th>\n      <td>2</td>\n      <td>-5.553868e-19</td>\n      <td>-5.302041e-19</td>\n      <td>-4.877696e-19</td>\n      <td>-4.529003e-19</td>\n      <td>-4.218374e-19</td>\n      <td>-3.852027e-19</td>\n      <td>-3.158946e-19</td>\n      <td>-2.525576e-19</td>\n      <td>-1.931035e-19</td>\n      <td>...</td>\n      <td>9.620730e-19</td>\n      <td>1.812547e+07</td>\n      <td>0.954</td>\n      <td>24.284086</td>\n      <td>0.082645</td>\n      <td>7.023198e+17</td>\n      <td>1.351814</td>\n      <td>2.773614</td>\n      <td>1.209335</td>\n      <td>2.901510</td>\n    </tr>\n    <tr>\n      <th>3</th>\n      <td>3</td>\n      <td>1.542632e-19</td>\n      <td>1.702432e-20</td>\n      <td>-1.224389e-19</td>\n      <td>-2.601323e-19</td>\n      <td>-3.962478e-19</td>\n      <td>-5.333942e-19</td>\n      <td>-6.509511e-19</td>\n      <td>-7.409664e-19</td>\n      <td>-8.053906e-19</td>\n      <td>...</td>\n      <td>-1.047903e-18</td>\n      <td>2.276519e+07</td>\n      <td>0.954</td>\n      <td>24.284086</td>\n      <td>0.082645</td>\n      <td>7.023198e+17</td>\n      <td>1.258671</td>\n      <td>0.072278</td>\n      <td>0.707622</td>\n      <td>4.833565</td>\n    </tr>\n    <tr>\n      <th>4</th>\n      <td>4</td>\n      <td>8.523908e-19</td>\n      <td>8.153931e-19</td>\n      <td>7.941967e-19</td>\n      <td>7.514200e-19</td>\n      <td>6.952851e-19</td>\n      <td>6.392178e-19</td>\n      <td>5.588227e-19</td>\n      <td>4.674662e-19</td>\n      <td>4.038495e-19</td>\n      <td>...</td>\n      <td>2.814144e-19</td>\n      <td>1.825369e+07</td>\n      <td>0.954</td>\n      <td>24.284086</td>\n      <td>0.082645</td>\n      <td>7.023198e+17</td>\n      <td>1.301025</td>\n      <td>5.903408</td>\n      <td>0.976030</td>\n      <td>0.315526</td>\n    </tr>\n  </tbody>\n</table>\n<p>5 rows × 18616 columns</p>\n</div>"
     },
     "metadata": {},
     "execution_count": 3
    }
   ],
   "source": [
    "waveforms.head()"
   ]
  },
  {
   "cell_type": "code",
   "execution_count": 4,
   "metadata": {},
   "outputs": [
    {
     "output_type": "execute_result",
     "data": {
      "text/plain": [
       "0          0\n",
       "1          1\n",
       "2          2\n",
       "3          3\n",
       "4          4\n",
       "        ... \n",
       "2995    2995\n",
       "2996    2996\n",
       "2997    2997\n",
       "2998    2998\n",
       "2999    2999\n",
       "Name: Unnamed: 0, Length: 3000, dtype: int64"
      ]
     },
     "metadata": {},
     "execution_count": 4
    }
   ],
   "source": [
    "waveforms.iloc[:,0]"
   ]
  },
  {
   "cell_type": "code",
   "execution_count": 5,
   "metadata": {},
   "outputs": [
    {
     "output_type": "execute_result",
     "data": {
      "text/plain": [
       "0          0\n",
       "1          1\n",
       "2          2\n",
       "3          3\n",
       "4          4\n",
       "        ... \n",
       "2995    2995\n",
       "2996    2996\n",
       "2997    2997\n",
       "2998    2998\n",
       "2999    2999\n",
       "Name: Unnamed: 0, Length: 3000, dtype: int64"
      ]
     },
     "metadata": {},
     "execution_count": 5
    }
   ],
   "source": [
    "waveforms['Unnamed: 0']"
   ]
  },
  {
   "cell_type": "code",
   "execution_count": 6,
   "metadata": {},
   "outputs": [],
   "source": [
    "waveforms.drop(columns='Unnamed: 0', axis = 1, inplace = True)"
   ]
  },
  {
   "cell_type": "code",
   "execution_count": 7,
   "metadata": {},
   "outputs": [
    {
     "output_type": "execute_result",
     "data": {
      "text/plain": [
       "              0             1             2             3             4  \\\n",
       "0  4.962836e-19  6.078202e-19  7.159990e-19  8.154175e-19  9.103152e-19   \n",
       "1 -5.954363e-19 -5.906020e-19 -5.696043e-19 -5.352516e-19 -4.885650e-19   \n",
       "2 -5.553868e-19 -5.302041e-19 -4.877696e-19 -4.529003e-19 -4.218374e-19   \n",
       "3  1.542632e-19  1.702432e-20 -1.224389e-19 -2.601323e-19 -3.962478e-19   \n",
       "4  8.523908e-19  8.153931e-19  7.941967e-19  7.514200e-19  6.952851e-19   \n",
       "\n",
       "              5             6             7             8             9  ...  \\\n",
       "0  1.006408e-18  1.083178e-18  1.156326e-18  1.210587e-18  1.233435e-18  ...   \n",
       "1 -4.247364e-19 -3.796092e-19 -3.350472e-19 -3.006298e-19 -2.669742e-19  ...   \n",
       "2 -3.852027e-19 -3.158946e-19 -2.525576e-19 -1.931035e-19 -1.255377e-19  ...   \n",
       "3 -5.333942e-19 -6.509511e-19 -7.409664e-19 -8.053906e-19 -8.554588e-19  ...   \n",
       "4  6.392178e-19  5.588227e-19  4.674662e-19  4.038495e-19  3.375522e-19  ...   \n",
       "\n",
       "          18605       tc_true  phic_true    mc_true  eta_true       dl_true  \\\n",
       "0 -9.707775e-21  2.095587e+06      0.954  24.284086  0.082645  7.023198e+17   \n",
       "1 -1.675976e-19  2.059795e+07      0.954  24.284086  0.082645  7.023198e+17   \n",
       "2  9.620730e-19  1.812547e+07      0.954  24.284086  0.082645  7.023198e+17   \n",
       "3 -1.047903e-18  2.276519e+07      0.954  24.284086  0.082645  7.023198e+17   \n",
       "4  2.814144e-19  1.825369e+07      0.954  24.284086  0.082645  7.023198e+17   \n",
       "\n",
       "   thetas_true  phis_true  iota_true  psi_true  \n",
       "0     0.671052   1.411355   1.055404  1.613817  \n",
       "1     0.658269   4.264866   1.443519  3.309646  \n",
       "2     1.351814   2.773614   1.209335  2.901510  \n",
       "3     1.258671   0.072278   0.707622  4.833565  \n",
       "4     1.301025   5.903408   0.976030  0.315526  \n",
       "\n",
       "[5 rows x 18615 columns]"
      ],
      "text/html": "<div>\n<style scoped>\n    .dataframe tbody tr th:only-of-type {\n        vertical-align: middle;\n    }\n\n    .dataframe tbody tr th {\n        vertical-align: top;\n    }\n\n    .dataframe thead th {\n        text-align: right;\n    }\n</style>\n<table border=\"1\" class=\"dataframe\">\n  <thead>\n    <tr style=\"text-align: right;\">\n      <th></th>\n      <th>0</th>\n      <th>1</th>\n      <th>2</th>\n      <th>3</th>\n      <th>4</th>\n      <th>5</th>\n      <th>6</th>\n      <th>7</th>\n      <th>8</th>\n      <th>9</th>\n      <th>...</th>\n      <th>18605</th>\n      <th>tc_true</th>\n      <th>phic_true</th>\n      <th>mc_true</th>\n      <th>eta_true</th>\n      <th>dl_true</th>\n      <th>thetas_true</th>\n      <th>phis_true</th>\n      <th>iota_true</th>\n      <th>psi_true</th>\n    </tr>\n  </thead>\n  <tbody>\n    <tr>\n      <th>0</th>\n      <td>4.962836e-19</td>\n      <td>6.078202e-19</td>\n      <td>7.159990e-19</td>\n      <td>8.154175e-19</td>\n      <td>9.103152e-19</td>\n      <td>1.006408e-18</td>\n      <td>1.083178e-18</td>\n      <td>1.156326e-18</td>\n      <td>1.210587e-18</td>\n      <td>1.233435e-18</td>\n      <td>...</td>\n      <td>-9.707775e-21</td>\n      <td>2.095587e+06</td>\n      <td>0.954</td>\n      <td>24.284086</td>\n      <td>0.082645</td>\n      <td>7.023198e+17</td>\n      <td>0.671052</td>\n      <td>1.411355</td>\n      <td>1.055404</td>\n      <td>1.613817</td>\n    </tr>\n    <tr>\n      <th>1</th>\n      <td>-5.954363e-19</td>\n      <td>-5.906020e-19</td>\n      <td>-5.696043e-19</td>\n      <td>-5.352516e-19</td>\n      <td>-4.885650e-19</td>\n      <td>-4.247364e-19</td>\n      <td>-3.796092e-19</td>\n      <td>-3.350472e-19</td>\n      <td>-3.006298e-19</td>\n      <td>-2.669742e-19</td>\n      <td>...</td>\n      <td>-1.675976e-19</td>\n      <td>2.059795e+07</td>\n      <td>0.954</td>\n      <td>24.284086</td>\n      <td>0.082645</td>\n      <td>7.023198e+17</td>\n      <td>0.658269</td>\n      <td>4.264866</td>\n      <td>1.443519</td>\n      <td>3.309646</td>\n    </tr>\n    <tr>\n      <th>2</th>\n      <td>-5.553868e-19</td>\n      <td>-5.302041e-19</td>\n      <td>-4.877696e-19</td>\n      <td>-4.529003e-19</td>\n      <td>-4.218374e-19</td>\n      <td>-3.852027e-19</td>\n      <td>-3.158946e-19</td>\n      <td>-2.525576e-19</td>\n      <td>-1.931035e-19</td>\n      <td>-1.255377e-19</td>\n      <td>...</td>\n      <td>9.620730e-19</td>\n      <td>1.812547e+07</td>\n      <td>0.954</td>\n      <td>24.284086</td>\n      <td>0.082645</td>\n      <td>7.023198e+17</td>\n      <td>1.351814</td>\n      <td>2.773614</td>\n      <td>1.209335</td>\n      <td>2.901510</td>\n    </tr>\n    <tr>\n      <th>3</th>\n      <td>1.542632e-19</td>\n      <td>1.702432e-20</td>\n      <td>-1.224389e-19</td>\n      <td>-2.601323e-19</td>\n      <td>-3.962478e-19</td>\n      <td>-5.333942e-19</td>\n      <td>-6.509511e-19</td>\n      <td>-7.409664e-19</td>\n      <td>-8.053906e-19</td>\n      <td>-8.554588e-19</td>\n      <td>...</td>\n      <td>-1.047903e-18</td>\n      <td>2.276519e+07</td>\n      <td>0.954</td>\n      <td>24.284086</td>\n      <td>0.082645</td>\n      <td>7.023198e+17</td>\n      <td>1.258671</td>\n      <td>0.072278</td>\n      <td>0.707622</td>\n      <td>4.833565</td>\n    </tr>\n    <tr>\n      <th>4</th>\n      <td>8.523908e-19</td>\n      <td>8.153931e-19</td>\n      <td>7.941967e-19</td>\n      <td>7.514200e-19</td>\n      <td>6.952851e-19</td>\n      <td>6.392178e-19</td>\n      <td>5.588227e-19</td>\n      <td>4.674662e-19</td>\n      <td>4.038495e-19</td>\n      <td>3.375522e-19</td>\n      <td>...</td>\n      <td>2.814144e-19</td>\n      <td>1.825369e+07</td>\n      <td>0.954</td>\n      <td>24.284086</td>\n      <td>0.082645</td>\n      <td>7.023198e+17</td>\n      <td>1.301025</td>\n      <td>5.903408</td>\n      <td>0.976030</td>\n      <td>0.315526</td>\n    </tr>\n  </tbody>\n</table>\n<p>5 rows × 18615 columns</p>\n</div>"
     },
     "metadata": {},
     "execution_count": 7
    }
   ],
   "source": [
    "waveforms.head()"
   ]
  },
  {
   "cell_type": "code",
   "execution_count": 8,
   "metadata": {},
   "outputs": [],
   "source": [
    "waveforms.drop(columns=['phic_true','mc_true','eta_true','dl_true'], axis = 1, inplace = True) # drop unchanged parameters"
   ]
  },
  {
   "cell_type": "code",
   "execution_count": 9,
   "metadata": {},
   "outputs": [
    {
     "output_type": "execute_result",
     "data": {
      "text/plain": [
       "              0             1             2             3             4  \\\n",
       "0  4.962836e-19  6.078202e-19  7.159990e-19  8.154175e-19  9.103152e-19   \n",
       "1 -5.954363e-19 -5.906020e-19 -5.696043e-19 -5.352516e-19 -4.885650e-19   \n",
       "2 -5.553868e-19 -5.302041e-19 -4.877696e-19 -4.529003e-19 -4.218374e-19   \n",
       "3  1.542632e-19  1.702432e-20 -1.224389e-19 -2.601323e-19 -3.962478e-19   \n",
       "4  8.523908e-19  8.153931e-19  7.941967e-19  7.514200e-19  6.952851e-19   \n",
       "\n",
       "              5             6             7             8             9  ...  \\\n",
       "0  1.006408e-18  1.083178e-18  1.156326e-18  1.210587e-18  1.233435e-18  ...   \n",
       "1 -4.247364e-19 -3.796092e-19 -3.350472e-19 -3.006298e-19 -2.669742e-19  ...   \n",
       "2 -3.852027e-19 -3.158946e-19 -2.525576e-19 -1.931035e-19 -1.255377e-19  ...   \n",
       "3 -5.333942e-19 -6.509511e-19 -7.409664e-19 -8.053906e-19 -8.554588e-19  ...   \n",
       "4  6.392178e-19  5.588227e-19  4.674662e-19  4.038495e-19  3.375522e-19  ...   \n",
       "\n",
       "          18601         18602         18603         18604         18605  \\\n",
       "0 -8.045846e-20 -5.068457e-20 -2.452145e-20 -2.704215e-20 -9.707775e-21   \n",
       "1 -3.609220e-19 -3.170464e-19 -2.625922e-19 -2.199867e-19 -1.675976e-19   \n",
       "2  9.483467e-19  1.039811e-18  1.072408e-18  1.037538e-18  9.620730e-19   \n",
       "3 -3.544587e-19 -5.609371e-19 -7.416180e-19 -9.060731e-19 -1.047903e-18   \n",
       "4  8.739271e-19  7.918015e-19  6.591568e-19  4.970323e-19  2.814144e-19   \n",
       "\n",
       "        tc_true  thetas_true  phis_true  iota_true  psi_true  \n",
       "0  2.095587e+06     0.671052   1.411355   1.055404  1.613817  \n",
       "1  2.059795e+07     0.658269   4.264866   1.443519  3.309646  \n",
       "2  1.812547e+07     1.351814   2.773614   1.209335  2.901510  \n",
       "3  2.276519e+07     1.258671   0.072278   0.707622  4.833565  \n",
       "4  1.825369e+07     1.301025   5.903408   0.976030  0.315526  \n",
       "\n",
       "[5 rows x 18611 columns]"
      ],
      "text/html": "<div>\n<style scoped>\n    .dataframe tbody tr th:only-of-type {\n        vertical-align: middle;\n    }\n\n    .dataframe tbody tr th {\n        vertical-align: top;\n    }\n\n    .dataframe thead th {\n        text-align: right;\n    }\n</style>\n<table border=\"1\" class=\"dataframe\">\n  <thead>\n    <tr style=\"text-align: right;\">\n      <th></th>\n      <th>0</th>\n      <th>1</th>\n      <th>2</th>\n      <th>3</th>\n      <th>4</th>\n      <th>5</th>\n      <th>6</th>\n      <th>7</th>\n      <th>8</th>\n      <th>9</th>\n      <th>...</th>\n      <th>18601</th>\n      <th>18602</th>\n      <th>18603</th>\n      <th>18604</th>\n      <th>18605</th>\n      <th>tc_true</th>\n      <th>thetas_true</th>\n      <th>phis_true</th>\n      <th>iota_true</th>\n      <th>psi_true</th>\n    </tr>\n  </thead>\n  <tbody>\n    <tr>\n      <th>0</th>\n      <td>4.962836e-19</td>\n      <td>6.078202e-19</td>\n      <td>7.159990e-19</td>\n      <td>8.154175e-19</td>\n      <td>9.103152e-19</td>\n      <td>1.006408e-18</td>\n      <td>1.083178e-18</td>\n      <td>1.156326e-18</td>\n      <td>1.210587e-18</td>\n      <td>1.233435e-18</td>\n      <td>...</td>\n      <td>-8.045846e-20</td>\n      <td>-5.068457e-20</td>\n      <td>-2.452145e-20</td>\n      <td>-2.704215e-20</td>\n      <td>-9.707775e-21</td>\n      <td>2.095587e+06</td>\n      <td>0.671052</td>\n      <td>1.411355</td>\n      <td>1.055404</td>\n      <td>1.613817</td>\n    </tr>\n    <tr>\n      <th>1</th>\n      <td>-5.954363e-19</td>\n      <td>-5.906020e-19</td>\n      <td>-5.696043e-19</td>\n      <td>-5.352516e-19</td>\n      <td>-4.885650e-19</td>\n      <td>-4.247364e-19</td>\n      <td>-3.796092e-19</td>\n      <td>-3.350472e-19</td>\n      <td>-3.006298e-19</td>\n      <td>-2.669742e-19</td>\n      <td>...</td>\n      <td>-3.609220e-19</td>\n      <td>-3.170464e-19</td>\n      <td>-2.625922e-19</td>\n      <td>-2.199867e-19</td>\n      <td>-1.675976e-19</td>\n      <td>2.059795e+07</td>\n      <td>0.658269</td>\n      <td>4.264866</td>\n      <td>1.443519</td>\n      <td>3.309646</td>\n    </tr>\n    <tr>\n      <th>2</th>\n      <td>-5.553868e-19</td>\n      <td>-5.302041e-19</td>\n      <td>-4.877696e-19</td>\n      <td>-4.529003e-19</td>\n      <td>-4.218374e-19</td>\n      <td>-3.852027e-19</td>\n      <td>-3.158946e-19</td>\n      <td>-2.525576e-19</td>\n      <td>-1.931035e-19</td>\n      <td>-1.255377e-19</td>\n      <td>...</td>\n      <td>9.483467e-19</td>\n      <td>1.039811e-18</td>\n      <td>1.072408e-18</td>\n      <td>1.037538e-18</td>\n      <td>9.620730e-19</td>\n      <td>1.812547e+07</td>\n      <td>1.351814</td>\n      <td>2.773614</td>\n      <td>1.209335</td>\n      <td>2.901510</td>\n    </tr>\n    <tr>\n      <th>3</th>\n      <td>1.542632e-19</td>\n      <td>1.702432e-20</td>\n      <td>-1.224389e-19</td>\n      <td>-2.601323e-19</td>\n      <td>-3.962478e-19</td>\n      <td>-5.333942e-19</td>\n      <td>-6.509511e-19</td>\n      <td>-7.409664e-19</td>\n      <td>-8.053906e-19</td>\n      <td>-8.554588e-19</td>\n      <td>...</td>\n      <td>-3.544587e-19</td>\n      <td>-5.609371e-19</td>\n      <td>-7.416180e-19</td>\n      <td>-9.060731e-19</td>\n      <td>-1.047903e-18</td>\n      <td>2.276519e+07</td>\n      <td>1.258671</td>\n      <td>0.072278</td>\n      <td>0.707622</td>\n      <td>4.833565</td>\n    </tr>\n    <tr>\n      <th>4</th>\n      <td>8.523908e-19</td>\n      <td>8.153931e-19</td>\n      <td>7.941967e-19</td>\n      <td>7.514200e-19</td>\n      <td>6.952851e-19</td>\n      <td>6.392178e-19</td>\n      <td>5.588227e-19</td>\n      <td>4.674662e-19</td>\n      <td>4.038495e-19</td>\n      <td>3.375522e-19</td>\n      <td>...</td>\n      <td>8.739271e-19</td>\n      <td>7.918015e-19</td>\n      <td>6.591568e-19</td>\n      <td>4.970323e-19</td>\n      <td>2.814144e-19</td>\n      <td>1.825369e+07</td>\n      <td>1.301025</td>\n      <td>5.903408</td>\n      <td>0.976030</td>\n      <td>0.315526</td>\n    </tr>\n  </tbody>\n</table>\n<p>5 rows × 18611 columns</p>\n</div>"
     },
     "metadata": {},
     "execution_count": 9
    }
   ],
   "source": [
    "waveforms.head()"
   ]
  },
  {
   "cell_type": "code",
   "execution_count": 10,
   "metadata": {},
   "outputs": [],
   "source": [
    "x_train, x_test, y_train, y_test = train_test_split(waveforms.iloc[:,0:18605], waveforms.iloc[:,-5:], test_size = 0.2, random_state = 115)\n",
    "\n",
    "# split validation data\n",
    "x_train, x_val, y_train, y_val = train_test_split(x_train.iloc[:,0:18605], y_train, test_size = 0.25, random_state = 115)"
   ]
  },
  {
   "cell_type": "code",
   "execution_count": 11,
   "metadata": {},
   "outputs": [
    {
     "output_type": "execute_result",
     "data": {
      "text/plain": [
       "           tc_true  thetas_true  phis_true  iota_true  psi_true\n",
       "2843  5.860407e+06     1.062177   4.004693   1.297916  1.340398\n",
       "1181  1.385990e+07     2.234188   2.553600   0.849962  0.858338\n",
       "1883  1.687134e+07     2.380436   5.604621   0.598846  1.617306\n",
       "360   1.181299e+07     1.885034   1.474455   1.747477  2.114709\n",
       "1836  2.024780e+07     2.473053   4.391896   2.006970  3.194625"
      ],
      "text/html": "<div>\n<style scoped>\n    .dataframe tbody tr th:only-of-type {\n        vertical-align: middle;\n    }\n\n    .dataframe tbody tr th {\n        vertical-align: top;\n    }\n\n    .dataframe thead th {\n        text-align: right;\n    }\n</style>\n<table border=\"1\" class=\"dataframe\">\n  <thead>\n    <tr style=\"text-align: right;\">\n      <th></th>\n      <th>tc_true</th>\n      <th>thetas_true</th>\n      <th>phis_true</th>\n      <th>iota_true</th>\n      <th>psi_true</th>\n    </tr>\n  </thead>\n  <tbody>\n    <tr>\n      <th>2843</th>\n      <td>5.860407e+06</td>\n      <td>1.062177</td>\n      <td>4.004693</td>\n      <td>1.297916</td>\n      <td>1.340398</td>\n    </tr>\n    <tr>\n      <th>1181</th>\n      <td>1.385990e+07</td>\n      <td>2.234188</td>\n      <td>2.553600</td>\n      <td>0.849962</td>\n      <td>0.858338</td>\n    </tr>\n    <tr>\n      <th>1883</th>\n      <td>1.687134e+07</td>\n      <td>2.380436</td>\n      <td>5.604621</td>\n      <td>0.598846</td>\n      <td>1.617306</td>\n    </tr>\n    <tr>\n      <th>360</th>\n      <td>1.181299e+07</td>\n      <td>1.885034</td>\n      <td>1.474455</td>\n      <td>1.747477</td>\n      <td>2.114709</td>\n    </tr>\n    <tr>\n      <th>1836</th>\n      <td>2.024780e+07</td>\n      <td>2.473053</td>\n      <td>4.391896</td>\n      <td>2.006970</td>\n      <td>3.194625</td>\n    </tr>\n  </tbody>\n</table>\n</div>"
     },
     "metadata": {},
     "execution_count": 11
    }
   ],
   "source": [
    "y_train.head()"
   ]
  },
  {
   "cell_type": "code",
   "execution_count": 12,
   "metadata": {},
   "outputs": [
    {
     "output_type": "execute_result",
     "data": {
      "text/plain": [
       "                 0             1             2             3             4  \\\n",
       "2843 -7.111526e-19 -7.271884e-19 -7.148747e-19 -6.899987e-19 -6.414218e-19   \n",
       "1181  3.765733e-20  7.542108e-21 -6.061081e-21 -2.754501e-20 -5.048634e-20   \n",
       "1883 -1.691490e-19 -2.162035e-19 -2.717940e-19 -3.502725e-19 -4.485410e-19   \n",
       "360   2.554064e-19  3.232272e-19  3.825679e-19  4.171571e-19  4.560910e-19   \n",
       "1836 -1.021083e-18 -1.016186e-18 -9.985500e-19 -9.910850e-19 -9.896983e-19   \n",
       "\n",
       "                 5             6             7             8             9  \\\n",
       "2843 -5.651672e-19 -4.706843e-19 -3.443665e-19 -2.200953e-19 -1.049504e-19   \n",
       "1181 -6.187062e-20 -9.739743e-20 -1.173401e-19 -1.227034e-19 -1.255714e-19   \n",
       "1883 -5.349155e-19 -6.134755e-19 -7.035463e-19 -7.931417e-19 -8.774237e-19   \n",
       "360   4.930469e-19  5.302144e-19  5.584790e-19  5.792628e-19  5.767249e-19   \n",
       "1836 -9.833217e-19 -9.810322e-19 -9.672735e-19 -9.454395e-19 -9.243716e-19   \n",
       "\n",
       "      ...         18595         18596         18597         18598  \\\n",
       "2843  ... -3.812079e-19 -3.420695e-19 -3.162342e-19 -2.923191e-19   \n",
       "1181  ... -1.078931e-18 -1.065741e-18 -1.049115e-18 -1.034795e-18   \n",
       "1883  ... -4.222667e-19 -6.078068e-19 -7.758744e-19 -9.124232e-19   \n",
       "360   ... -1.136413e-19 -1.071011e-19 -1.015308e-19 -7.800247e-20   \n",
       "1836  ... -2.648699e-19 -2.960646e-19 -3.258888e-19 -3.460073e-19   \n",
       "\n",
       "             18599         18600         18601         18602         18603  \\\n",
       "2843 -2.527415e-19 -2.120833e-19 -1.767642e-19 -1.526109e-19 -1.232002e-19   \n",
       "1181 -1.031886e-18 -1.050426e-18 -1.068607e-18 -1.089405e-18 -1.115755e-18   \n",
       "1883 -9.995285e-19 -1.029583e-18 -1.045416e-18 -1.047673e-18 -9.831626e-19   \n",
       "360  -6.177589e-20 -5.243019e-20 -5.117809e-20 -4.341290e-20 -3.631739e-20   \n",
       "1836 -3.646821e-19 -3.706219e-19 -3.674601e-19 -3.488566e-19 -3.347521e-19   \n",
       "\n",
       "             18604  \n",
       "2843 -9.447192e-20  \n",
       "1181 -1.132875e-18  \n",
       "1883 -8.609643e-19  \n",
       "360  -4.813746e-20  \n",
       "1836 -3.361123e-19  \n",
       "\n",
       "[5 rows x 18605 columns]"
      ],
      "text/html": "<div>\n<style scoped>\n    .dataframe tbody tr th:only-of-type {\n        vertical-align: middle;\n    }\n\n    .dataframe tbody tr th {\n        vertical-align: top;\n    }\n\n    .dataframe thead th {\n        text-align: right;\n    }\n</style>\n<table border=\"1\" class=\"dataframe\">\n  <thead>\n    <tr style=\"text-align: right;\">\n      <th></th>\n      <th>0</th>\n      <th>1</th>\n      <th>2</th>\n      <th>3</th>\n      <th>4</th>\n      <th>5</th>\n      <th>6</th>\n      <th>7</th>\n      <th>8</th>\n      <th>9</th>\n      <th>...</th>\n      <th>18595</th>\n      <th>18596</th>\n      <th>18597</th>\n      <th>18598</th>\n      <th>18599</th>\n      <th>18600</th>\n      <th>18601</th>\n      <th>18602</th>\n      <th>18603</th>\n      <th>18604</th>\n    </tr>\n  </thead>\n  <tbody>\n    <tr>\n      <th>2843</th>\n      <td>-7.111526e-19</td>\n      <td>-7.271884e-19</td>\n      <td>-7.148747e-19</td>\n      <td>-6.899987e-19</td>\n      <td>-6.414218e-19</td>\n      <td>-5.651672e-19</td>\n      <td>-4.706843e-19</td>\n      <td>-3.443665e-19</td>\n      <td>-2.200953e-19</td>\n      <td>-1.049504e-19</td>\n      <td>...</td>\n      <td>-3.812079e-19</td>\n      <td>-3.420695e-19</td>\n      <td>-3.162342e-19</td>\n      <td>-2.923191e-19</td>\n      <td>-2.527415e-19</td>\n      <td>-2.120833e-19</td>\n      <td>-1.767642e-19</td>\n      <td>-1.526109e-19</td>\n      <td>-1.232002e-19</td>\n      <td>-9.447192e-20</td>\n    </tr>\n    <tr>\n      <th>1181</th>\n      <td>3.765733e-20</td>\n      <td>7.542108e-21</td>\n      <td>-6.061081e-21</td>\n      <td>-2.754501e-20</td>\n      <td>-5.048634e-20</td>\n      <td>-6.187062e-20</td>\n      <td>-9.739743e-20</td>\n      <td>-1.173401e-19</td>\n      <td>-1.227034e-19</td>\n      <td>-1.255714e-19</td>\n      <td>...</td>\n      <td>-1.078931e-18</td>\n      <td>-1.065741e-18</td>\n      <td>-1.049115e-18</td>\n      <td>-1.034795e-18</td>\n      <td>-1.031886e-18</td>\n      <td>-1.050426e-18</td>\n      <td>-1.068607e-18</td>\n      <td>-1.089405e-18</td>\n      <td>-1.115755e-18</td>\n      <td>-1.132875e-18</td>\n    </tr>\n    <tr>\n      <th>1883</th>\n      <td>-1.691490e-19</td>\n      <td>-2.162035e-19</td>\n      <td>-2.717940e-19</td>\n      <td>-3.502725e-19</td>\n      <td>-4.485410e-19</td>\n      <td>-5.349155e-19</td>\n      <td>-6.134755e-19</td>\n      <td>-7.035463e-19</td>\n      <td>-7.931417e-19</td>\n      <td>-8.774237e-19</td>\n      <td>...</td>\n      <td>-4.222667e-19</td>\n      <td>-6.078068e-19</td>\n      <td>-7.758744e-19</td>\n      <td>-9.124232e-19</td>\n      <td>-9.995285e-19</td>\n      <td>-1.029583e-18</td>\n      <td>-1.045416e-18</td>\n      <td>-1.047673e-18</td>\n      <td>-9.831626e-19</td>\n      <td>-8.609643e-19</td>\n    </tr>\n    <tr>\n      <th>360</th>\n      <td>2.554064e-19</td>\n      <td>3.232272e-19</td>\n      <td>3.825679e-19</td>\n      <td>4.171571e-19</td>\n      <td>4.560910e-19</td>\n      <td>4.930469e-19</td>\n      <td>5.302144e-19</td>\n      <td>5.584790e-19</td>\n      <td>5.792628e-19</td>\n      <td>5.767249e-19</td>\n      <td>...</td>\n      <td>-1.136413e-19</td>\n      <td>-1.071011e-19</td>\n      <td>-1.015308e-19</td>\n      <td>-7.800247e-20</td>\n      <td>-6.177589e-20</td>\n      <td>-5.243019e-20</td>\n      <td>-5.117809e-20</td>\n      <td>-4.341290e-20</td>\n      <td>-3.631739e-20</td>\n      <td>-4.813746e-20</td>\n    </tr>\n    <tr>\n      <th>1836</th>\n      <td>-1.021083e-18</td>\n      <td>-1.016186e-18</td>\n      <td>-9.985500e-19</td>\n      <td>-9.910850e-19</td>\n      <td>-9.896983e-19</td>\n      <td>-9.833217e-19</td>\n      <td>-9.810322e-19</td>\n      <td>-9.672735e-19</td>\n      <td>-9.454395e-19</td>\n      <td>-9.243716e-19</td>\n      <td>...</td>\n      <td>-2.648699e-19</td>\n      <td>-2.960646e-19</td>\n      <td>-3.258888e-19</td>\n      <td>-3.460073e-19</td>\n      <td>-3.646821e-19</td>\n      <td>-3.706219e-19</td>\n      <td>-3.674601e-19</td>\n      <td>-3.488566e-19</td>\n      <td>-3.347521e-19</td>\n      <td>-3.361123e-19</td>\n    </tr>\n  </tbody>\n</table>\n<p>5 rows × 18605 columns</p>\n</div>"
     },
     "metadata": {},
     "execution_count": 12
    }
   ],
   "source": [
    "x_train.head()"
   ]
  },
  {
   "cell_type": "code",
   "execution_count": 13,
   "metadata": {},
   "outputs": [
    {
     "output_type": "execute_result",
     "data": {
      "text/plain": [
       "array([[-0.99307986, -1.01690741, -0.99957302, ..., -0.23359637,\n",
       "        -0.19627359, -0.15849272],\n",
       "       [ 0.00735677, -0.0357871 , -0.0535721 , ..., -1.55608198,\n",
       "        -1.59880599, -1.61421523],\n",
       "       [-0.26894375, -0.33456511, -0.40822608, ..., -1.49716808,\n",
       "        -1.41144545, -1.23302721],\n",
       "       ...,\n",
       "       [ 0.49478167,  0.53618625,  0.58664516, ...,  1.3294933 ,\n",
       "         1.43150735,  1.5390786 ],\n",
       "       [ 0.82184596,  0.85996357,  0.87103407, ..., -0.22820199,\n",
       "        -0.38008376, -0.54186399],\n",
       "       [-0.09305933, -0.15483995, -0.22273355, ...,  0.38385958,\n",
       "         0.29979598,  0.2070039 ]])"
      ]
     },
     "metadata": {},
     "execution_count": 13
    }
   ],
   "source": [
    "# standardization\n",
    "# todo: try normalization or normalization then standardization, if the performance of standdardization alone is not good.\n",
    "std = StandardScaler().fit(x_train)\n",
    "x_train = std.transform(x_train)\n",
    "x_val = std.transform(x_val)\n",
    "x_test = std.transform(x_test)\n",
    "\n",
    "x_train"
   ]
  },
  {
   "cell_type": "code",
   "execution_count": 16,
   "metadata": {},
   "outputs": [
    {
     "output_type": "execute_result",
     "data": {
      "text/plain": [
       "array([[-1.09898665, -0.7153462 ,  0.47763943, -0.40425018, -0.95325869],\n",
       "       [-0.20911348,  1.00048201, -0.32341356, -1.0650996 , -1.21954717],\n",
       "       [ 0.12588258,  1.2145883 ,  1.36085391, -1.43556127, -0.80029541],\n",
       "       ...,\n",
       "       [ 1.15017539, -0.54597964, -1.40314978, -0.31941321,  1.2545252 ],\n",
       "       [ 0.61124431, -1.15913522, -0.96099414,  1.78280723, -1.13117899],\n",
       "       [-0.92124044,  0.19729341, -0.58179515,  0.69941621,  0.6112605 ]])"
      ]
     },
     "metadata": {},
     "execution_count": 16
    }
   ],
   "source": [
    "# Stabdardization for labels\n",
    "std_y = StandardScaler().fit(y_train)\n",
    "y_train = std_y.transform(y_train)\n",
    "y_val = std_y.transform(y_val)\n",
    "y_test = std_y.transform(y_test)\n",
    "\n",
    "y_train"
   ]
  },
  {
   "cell_type": "code",
   "execution_count": 17,
   "metadata": {},
   "outputs": [
    {
     "output_type": "execute_result",
     "data": {
      "text/plain": [
       "(1800, 18605, 1)"
      ]
     },
     "metadata": {},
     "execution_count": 17
    }
   ],
   "source": [
    "x_train = x_train.reshape(-1,18605,1)\n",
    "x_val = x_val.reshape(-1,18605,1)\n",
    "x_test = x_test.reshape(-1,18605,1)\n",
    "\n",
    "x_train.shape"
   ]
  },
  {
   "cell_type": "code",
   "execution_count": 18,
   "metadata": {},
   "outputs": [],
   "source": [
    "model = keras.Sequential(\n",
    "    [\n",
    "        #keras.Sequential([\n",
    "            keras.layers.Conv1D(filters = 64, kernel_size = 16, strides = 1, padding = \"causal\", input_shape = (18605,1)),\n",
    "            keras.layers.MaxPool1D(pool_size = 4, strides = 4, padding = \"same\"),\n",
    "           keras.layers.ReLU(),\n",
    "#        ]),\n",
    "#        keras.Sequential([\n",
    "            keras.layers.Conv1D(filters = 128, kernel_size = 16, strides = 1, padding = \"causal\"),\n",
    "            keras.layers.MaxPooling1D(pool_size = 4, strides = 4, padding = \"same\"),\n",
    "            keras.layers.ReLU(),\n",
    "#        ]),\n",
    "#        keras.Sequential([\n",
    "            keras.layers.Conv1D(filters = 256, kernel_size = 16, strides = 1, padding = \"causal\"),\n",
    "            keras.layers.MaxPooling1D(pool_size = 4, strides = 4, padding = \"same\"),\n",
    "            keras.layers.ReLU(),\n",
    "#        ]),\n",
    "#        keras.Sequential([\n",
    "            keras.layers.Conv1D(filters = 512, kernel_size = 32, strides = 1, padding = \"causal\"),\n",
    "            keras.layers.MaxPooling1D(pool_size = 4, strides = 4, padding = \"same\"),\n",
    "            keras.layers.ReLU(),\n",
    "#        ]),\n",
    "        keras.layers.Flatten(),\n",
    "        keras.layers.Dense(128, activation = \"relu\"),\n",
    "        keras.layers.Dense(64, activation = \"relu\"),\n",
    "        keras.layers.Dense(5, activation = \"relu\"), # only 5 paras now\n",
    "    ]\n",
    ")"
   ]
  },
  {
   "cell_type": "code",
   "execution_count": 19,
   "metadata": {},
   "outputs": [
    {
     "output_type": "execute_result",
     "data": {
      "text/plain": [
       "[<tensorflow.python.keras.layers.convolutional.Conv1D at 0x15e2cf0d0>,\n",
       " <tensorflow.python.keras.layers.pooling.MaxPooling1D at 0x15e2c5400>,\n",
       " <tensorflow.python.keras.layers.convolutional.Conv1D at 0x15e2c5610>,\n",
       " <tensorflow.python.keras.layers.pooling.MaxPooling1D at 0x15e2c5bb0>,\n",
       " <tensorflow.python.keras.layers.convolutional.Conv1D at 0x15e2c5d60>,\n",
       " <tensorflow.python.keras.layers.pooling.MaxPooling1D at 0x15e2c5910>,\n",
       " <tensorflow.python.keras.layers.convolutional.Conv1D at 0x15e7004f0>,\n",
       " <tensorflow.python.keras.layers.pooling.MaxPooling1D at 0x15e700a90>,\n",
       " <tensorflow.python.keras.layers.core.Flatten at 0x15e700d60>,\n",
       " <tensorflow.python.keras.layers.core.Dense at 0x15e700f10>,\n",
       " <tensorflow.python.keras.layers.core.Dense at 0x15e6fd280>,\n",
       " <tensorflow.python.keras.layers.core.Dense at 0x15e6fd5b0>]"
      ]
     },
     "metadata": {},
     "execution_count": 19
    }
   ],
   "source": [
    "model.layers"
   ]
  },
  {
   "cell_type": "code",
   "execution_count": 20,
   "metadata": {},
   "outputs": [
    {
     "output_type": "stream",
     "name": "stdout",
     "text": [
      "Model: \"sequential\"\n_________________________________________________________________\nLayer (type)                 Output Shape              Param #   \n=================================================================\nconv1d (Conv1D)              (None, 18605, 64)         1088      \n_________________________________________________________________\nmax_pooling1d (MaxPooling1D) (None, 4652, 64)          0         \n_________________________________________________________________\nconv1d_1 (Conv1D)            (None, 4652, 128)         131200    \n_________________________________________________________________\nmax_pooling1d_1 (MaxPooling1 (None, 1163, 128)         0         \n_________________________________________________________________\nconv1d_2 (Conv1D)            (None, 1163, 256)         524544    \n_________________________________________________________________\nmax_pooling1d_2 (MaxPooling1 (None, 291, 256)          0         \n_________________________________________________________________\nconv1d_3 (Conv1D)            (None, 291, 512)          4194816   \n_________________________________________________________________\nmax_pooling1d_3 (MaxPooling1 (None, 73, 512)           0         \n_________________________________________________________________\nflatten (Flatten)            (None, 37376)             0         \n_________________________________________________________________\ndense (Dense)                (None, 128)               4784256   \n_________________________________________________________________\ndense_1 (Dense)              (None, 64)                8256      \n_________________________________________________________________\ndense_2 (Dense)              (None, 5)                 325       \n=================================================================\nTotal params: 9,644,485\nTrainable params: 9,644,485\nNon-trainable params: 0\n_________________________________________________________________\n"
     ]
    }
   ],
   "source": [
    "model.summary()"
   ]
  },
  {
   "cell_type": "code",
   "execution_count": 21,
   "metadata": {},
   "outputs": [],
   "source": [
    "model.compile(optimizer='adam', loss = 'mse', metrics=['accuracy'])"
   ]
  },
  {
   "cell_type": "code",
   "execution_count": 22,
   "metadata": {},
   "outputs": [
    {
     "output_type": "stream",
     "name": "stdout",
     "text": [
      "Epoch 1/10\n",
      "57/57 [==============================] - 193s 3s/step - loss: 8.8412 - accuracy: 0.2028 - val_loss: 1.0146 - val_accuracy: 0.2250\n",
      "Epoch 2/10\n",
      "57/57 [==============================] - 213s 4s/step - loss: 0.9787 - accuracy: 0.2182 - val_loss: 1.0146 - val_accuracy: 0.2250\n",
      "Epoch 3/10\n",
      "57/57 [==============================] - 198s 3s/step - loss: 1.0017 - accuracy: 0.2106 - val_loss: 1.0146 - val_accuracy: 0.2250\n",
      "Epoch 4/10\n",
      "57/57 [==============================] - 204s 4s/step - loss: 1.0080 - accuracy: 0.2046 - val_loss: 1.0146 - val_accuracy: 0.2250\n",
      "Epoch 5/10\n",
      "57/57 [==============================] - 185s 3s/step - loss: 1.0025 - accuracy: 0.1938 - val_loss: 1.0146 - val_accuracy: 0.2250\n",
      "Epoch 6/10\n",
      "57/57 [==============================] - 181s 3s/step - loss: 0.9992 - accuracy: 0.1975 - val_loss: 1.0146 - val_accuracy: 0.2250\n",
      "Epoch 7/10\n",
      "57/57 [==============================] - 181s 3s/step - loss: 1.0118 - accuracy: 0.1947 - val_loss: 1.0146 - val_accuracy: 0.2250\n",
      "Epoch 8/10\n",
      "57/57 [==============================] - 181s 3s/step - loss: 1.0102 - accuracy: 0.1912 - val_loss: 1.0146 - val_accuracy: 0.2250\n",
      "Epoch 9/10\n",
      "57/57 [==============================] - 186s 3s/step - loss: 0.9985 - accuracy: 0.2146 - val_loss: 1.0146 - val_accuracy: 0.2250\n",
      "Epoch 10/10\n",
      "57/57 [==============================] - 184s 3s/step - loss: 0.9941 - accuracy: 0.2041 - val_loss: 1.0146 - val_accuracy: 0.2250\n"
     ]
    }
   ],
   "source": [
    "history=model.fit(x_train,y_train,epochs=10,batch_size=32, validation_data=(x_val,y_val))"
   ]
  },
  {
   "cell_type": "code",
   "execution_count": null,
   "metadata": {},
   "outputs": [],
   "source": [
    "x_train.shape, x_val.shape, y_train.shape, y_val.shape"
   ]
  },
  {
   "cell_type": "code",
   "execution_count": null,
   "metadata": {},
   "outputs": [],
   "source": [
    "y_predic = model.predict(x_test)\n",
    "result = std_y.inverse_transform(y_predic)"
   ]
  },
  {
   "cell_type": "code",
   "execution_count": null,
   "metadata": {},
   "outputs": [],
   "source": [
    "print(f'Our learning result is {result}')"
   ]
  }
 ]
}